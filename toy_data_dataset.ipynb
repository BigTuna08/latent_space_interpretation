{
 "cells": [
  {
   "cell_type": "markdown",
   "metadata": {},
   "source": [
    "## Intro\n",
    "\n",
    "- Toy data, in this version seqs are treated as seqs of floats"
   ]
  },
  {
   "cell_type": "markdown",
   "metadata": {},
   "source": [
    "chages, l, vocab, scale"
   ]
  },
  {
   "cell_type": "markdown",
   "metadata": {},
   "source": [
    "toy_data-float-predlen-even-s-good-Copy1  \n",
    "uses no teacher force"
   ]
  },
  {
   "cell_type": "markdown",
   "metadata": {},
   "source": [
    "## Parameters"
   ]
  },
  {
   "cell_type": "code",
   "execution_count": 1,
   "metadata": {},
   "outputs": [],
   "source": [
    "n = 100_000\n",
    "starts = (1, 1000)\n",
    "lens = (3, 30) \n",
    "steps = (1, 50)\n",
    "test_size=0.05\n",
    "save_loc = \"saved/toy_seqs\""
   ]
  },
  {
   "cell_type": "markdown",
   "metadata": {},
   "source": [
    "## Imports"
   ]
  },
  {
   "cell_type": "code",
   "execution_count": 1,
   "metadata": {},
   "outputs": [],
   "source": [
    "import numpy as np\n",
    "import time\n",
    "from datetime import datetime\n",
    "from sklearn.model_selection import train_test_split\n",
    "import os\n",
    "from matplotlib import pyplot as plt\n",
    "from my_lib.save_load import save_datasets"
   ]
  },
  {
   "cell_type": "markdown",
   "metadata": {},
   "source": [
    "# Create data"
   ]
  },
  {
   "cell_type": "code",
   "execution_count": 3,
   "metadata": {},
   "outputs": [],
   "source": [
    "s = np.stack([np.random.choice(np.arange(*starts, dtype=np.int32), size=n, ),\n",
    "            np.zeros((n,), dtype=np.int32),  # leave stop blank and compute from others\n",
    "            np.random.choice(np.arange(*steps, dtype=np.int32),size=n),\n",
    "            np.random.choice(np.arange(*lens, dtype=np.int32),size=n ),], axis=1)\n",
    "\n",
    "s[:,1] = s[:,0] + s[:, 2]*s[:, 3]  # stop = start + step*len\n",
    "\n",
    "s_tr, s_cv, = train_test_split(s, \n",
    "                              test_size=test_size, \n",
    "                              shuffle=True)"
   ]
  },
  {
   "cell_type": "code",
   "execution_count": 4,
   "metadata": {},
   "outputs": [
    {
     "data": {
      "text/plain": [
       "((95000, 4), (5000, 4))"
      ]
     },
     "execution_count": 4,
     "metadata": {},
     "output_type": "execute_result"
    }
   ],
   "source": [
    "s_tr.shape, s_cv.shape"
   ]
  },
  {
   "cell_type": "markdown",
   "metadata": {},
   "source": [
    "### Save Data  \n",
    "for efficiency, only save s, not full sequences"
   ]
  },
  {
   "cell_type": "code",
   "execution_count": 5,
   "metadata": {},
   "outputs": [],
   "source": [
    "save_datasets(save_loc, (s_tr.astype(np.float32), s_cv.astype(np.float32)), (\"s_tr\", \"s_cv\"))"
   ]
  }
 ],
 "metadata": {
  "kernelspec": {
   "display_name": "Python 3",
   "language": "python",
   "name": "python3"
  },
  "language_info": {
   "codemirror_mode": {
    "name": "ipython",
    "version": 3
   },
   "file_extension": ".py",
   "mimetype": "text/x-python",
   "name": "python",
   "nbconvert_exporter": "python",
   "pygments_lexer": "ipython3",
   "version": "3.8.5"
  }
 },
 "nbformat": 4,
 "nbformat_minor": 4
}
